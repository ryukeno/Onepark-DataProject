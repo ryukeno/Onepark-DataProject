{
 "cells": [
  {
   "cell_type": "code",
   "execution_count": 1,
   "metadata": {},
   "outputs": [],
   "source": [
    "from urllib.request import Request, urlopen\n",
    "import urllib\n",
    "import requests\n",
    "import pandas as pd\n",
    "from xlwt import Workbook \n",
    "from bs4 import BeautifulSoup\n",
    "import sys\n",
    "import time\n",
    "import random"
   ]
  },
  {
   "cell_type": "code",
   "execution_count": 13,
   "metadata": {},
   "outputs": [],
   "source": [
    "url_list = [\"https://www.google.com/search?q=Aachen+Hbf\",\n",
    "\"https://www.google.com/search?q=Aalen+Hbf\",\n",
    "\"https://www.google.com/search?q=Aschaffenburg+Hbf\",\n",
    "\"https://www.google.com/search?q=Augsburg+Hbf\",\n",
    "\"https://www.google.com/search?q=Bad+Friedrichshall+Hbf\",\n",
    "\"https://www.google.com/search?q=Bayreuth+Hbf\",\n",
    "\"https://www.google.com/search?q=Schweinfurt+Hbf\",\n",
    "\"https://www.google.com/search?q=Bielefeld+Hbf\",\n",
    "\"https://www.google.com/search?q=Bingen(Rhein)+Hbf\",\n",
    "\"https://www.google.com/search?q=Bochum+Hbf\",\n",
    "]"
   ]
  },
  {
   "cell_type": "code",
   "execution_count": 14,
   "metadata": {},
   "outputs": [],
   "source": [
    "user_agent_list = [\n",
    "   #Chrome\n",
    "    'Mozilla/5.0 (Windows NT 10.0; Win64; x64) AppleWebKit/537.36 (KHTML, like Gecko) Chrome/60.0.3112.113 Safari/537.36',\n",
    "    'Mozilla/5.0 (Windows NT 6.1; Win64; x64) AppleWebKit/537.36 (KHTML, like Gecko) Chrome/60.0.3112.90 Safari/537.36',\n",
    "    'Mozilla/5.0 (Windows NT 5.1; Win64; x64) AppleWebKit/537.36 (KHTML, like Gecko) Chrome/60.0.3112.90 Safari/537.36',\n",
    "    'Mozilla/5.0 (Windows NT 6.2; Win64; x64) AppleWebKit/537.36 (KHTML, like Gecko) Chrome/60.0.3112.90 Safari/537.36',\n",
    "    'Mozilla/5.0 (X11; Linux x86_64) AppleWebKit/537.36 (KHTML, like Gecko) Chrome/44.0.2403.157 Safari/537.36',\n",
    "    'Mozilla/5.0 (Windows NT 6.3; Win64; x64) AppleWebKit/537.36 (KHTML, like Gecko) Chrome/60.0.3112.113 Safari/537.36',\n",
    "    'Mozilla/5.0 (Windows NT 10.0; Win64; x64) AppleWebKit/537.36 (KHTML, like Gecko) Chrome/57.0.2987.133 Safari/537.36',\n",
    "    'Mozilla/5.0 (Windows NT 6.1; Win64; x64) AppleWebKit/537.36 (KHTML, like Gecko) Chrome/57.0.2987.133 Safari/537.36',\n",
    "    'Mozilla/5.0 (Windows NT 10.0; Win64; x64) AppleWebKit/537.36 (KHTML, like Gecko) Chrome/55.0.2883.87 Safari/537.36',\n",
    "    'Mozilla/5.0 (Windows NT 6.1; Win64; x64) AppleWebKit/537.36 (KHTML, like Gecko) Chrome/55.0.2883.87 Safari/537.36',\n",
    "    #Firefox\n",
    "    'Mozilla/4.0 (compatible; MSIE 9.0; Windows NT 6.1)',\n",
    "    'Mozilla/5.0 (Windows NT 6.1; WOW64; Trident/7.0; rv:11.0) like Gecko',\n",
    "    'Mozilla/5.0 (compatible; MSIE 9.0; Windows NT 6.1; WOW64; Trident/5.0)',\n",
    "    'Mozilla/5.0 (Windows NT 6.1; Trident/7.0; rv:11.0) like Gecko',\n",
    "    'Mozilla/5.0 (Windows NT 6.2; WOW64; Trident/7.0; rv:11.0) like Gecko',\n",
    "    'Mozilla/5.0 (Windows NT 10.0; WOW64; Trident/7.0; rv:11.0) like Gecko',\n",
    "    'Mozilla/5.0 (compatible; MSIE 9.0; Windows NT 6.0; Trident/5.0)',\n",
    "    'Mozilla/5.0 (Windows NT 6.3; WOW64; Trident/7.0; rv:11.0) like Gecko',\n",
    "    'Mozilla/5.0 (compatible; MSIE 9.0; Windows NT 6.1; Trident/5.0)',\n",
    "    'Mozilla/5.0 (Windows NT 6.1; Win64; x64; Trident/7.0; rv:11.0) like Gecko',\n",
    "    'Mozilla/5.0 (compatible; MSIE 10.0; Windows NT 6.1; WOW64; Trident/6.0)',\n",
    "    'Mozilla/5.0 (compatible; MSIE 10.0; Windows NT 6.1; Trident/6.0)',\n",
    "    'Mozilla/4.0 (compatible; MSIE 8.0; Windows NT 5.1; Trident/4.0; .NET CLR 2.0.50727; .NET CLR 3.0.4506.2152; .NET CLR 3.5.30729)'\n",
    "]"
   ]
  },
  {
   "cell_type": "code",
   "execution_count": 23,
   "metadata": {},
   "outputs": [],
   "source": [
    "def soups():\n",
    "    for url in url_list:   \n",
    "        hdr = {'User-Agent': random.choice(user_agent_list)}\n",
    "#print(hdr)\n",
    "        req = requests.get(url, headers = hdr)\n",
    "        #page = urlopen(req)\n",
    "        soup = BeautifulSoup(req.text, 'html.parser')\n",
    "        yield soup\n",
    "    \n",
    "# Scraping\n",
    "def getPropNames(soup):\n",
    "    try:\n",
    "        names.append(soup.find('div', class_='SPZz6b').find_next('span').text)\n",
    "    except:\n",
    "        names.append(\"PROSPECT\")\n",
    "    pass\n",
    "\n",
    "        #print(elm.text)\n",
    "def getPropAdress(soup):\n",
    "    try:\n",
    "        addresses.append(soup.find('div', class_='i4J0ge').text)                   \n",
    "    except:    \n",
    "        addresses.append(\"PROSPECT\")\n",
    "    pass\n",
    "        \n",
    "def GetTime(time_remaining):\n",
    "    return time_remaining     "
   ]
  },
  {
   "cell_type": "code",
   "execution_count": 24,
   "metadata": {},
   "outputs": [
    {
     "name": "stdout",
     "output_type": "stream",
     "text": [
      "Current Url: 10 Percentage: 100% time remaining: 0 minutes \n",
      "result:\n",
      "{'names': ['Aachen Hauptbahnhof', 'Aalen Hauptbahnhof', 'Aschaffenburg Hauptbahnhof', 'PROSPECT', 'Bad Friedrichshall Hauptbahnhof', 'Bayreuth Hauptbahnhof', 'Schweinfurt Hbf', 'Bielefeld Hauptbahnhof', 'Bingen (Rhein) Hauptbahnhof', 'Bochum Hauptbahnhof'], 'addresses': ['BeschreibungAachen Hauptbahnhof ist der größte der drei in Betrieb befindlichen Bahnhöfe in der Stadt Aachen, die außerdem über zwei Haltepunkte verfügt. Er gehört zur Bahnhofskategorie 2. Hier halten die Fernverkehrszüge Thalys und ICE sowie Nahverkehrszüge der Linien RE 1, RE 4, RE 9, RE 18, RB 20, RE 29 und RB 33. WikipediaAdresse: 52064 AachenEröffnet: 21. Dezember 1905Baustil: Art Nouveau ArchitectureLage im Netz: TrennungsbahnhofArchitekt: Friedrich Mettegang', 'BeschreibungAalen Hauptbahnhof ist ein Bahnhof rund 200 Meter nordöstlich der Altstadt von Aalen. In seiner Funktion als Knotenbahnhof ist er Kreuzungspunkt der Remsbahn aus Stuttgart, der Brenzbahn aus Ulm, der Oberen Jagstbahn nach Crailsheim und der Riesbahn nach Donauwörth. WikipediaAdresse: 73430 AalenEröffnet: 18. Juli 1861Kategorie: 3', 'BeschreibungDer Aschaffenburger Hauptbahnhof liegt an der vielbefahrenen Schienenverkehrsachse Ruhrgebiet– Frankfurt –Nürnberg–München/Wien. Die Deutsche Bahn ordnet den Aschaffenburger Hauptbahnhof in die Bahnhofskategorie 2 ein. Er bildet die Grenze zwischen der Innenstadt und dem Stadtteil Damm. WikipediaAdresse: 63739 AschaffenburgÖffnungszeiten:  Gleise: 8', 'PROSPECT', 'BeschreibungBad Friedrichshall Hauptbahnhof ist der größte und wichtigste Bahnhof der baden-württembergischen Stadt Bad Friedrichshall. Der einzige Hauptbahnhof im Landkreis Heilbronn ist ein regional bedeutender Eisenbahnknotenpunkt und ehemaliger württembergisch-badischer Grenzbahnhof. WikipediaAdresse: 74177 Bad FriedrichshallEröffnet: 11. September 1866Eigentümer: Deutsche BahnKategorie: 3Architekt: Carl Julius Abel', 'BeschreibungBayreuth Hauptbahnhof ist Ausgangs- oder Endpunkt von vier eingleisigen, nicht elektrifizierten Bahnstrecken, drei davon sind Hauptbahnen. Der Bahnhof gehört zur Bahnhofskategorie 3 und zum Verbundgebiet des Verkehrsverbunds Großraum Nürnberg. WikipediaAdresse: Bahnhofstraße 20, 95448 BayreuthEröffnet: 18. November 1853Öffnungszeiten:  Gleise: 5Höhe (SO): 337 m ü. NN', 'Adresse: 97424 Schweinfurt', 'BeschreibungDer Bielefelder Hauptbahnhof ist der wichtigste Bahnhof der Region Ostwestfalen-Lippe. Neben der Größe Bielefelds ist er von Bedeutung als Knotenpunkt zwischen Fern- und Regionalverkehr. Der Bahnhof gehört zur Bahnhofskategorie 2 und liegt am Bielefelder Pass. WikipediaAdresse: BielefeldEröffnet: 1847Abkürzung: EBILLage im Netz: DurchgangsbahnhofBaustil: Art Nouveau Architecture', 'BeschreibungBingen (Rhein) Hauptbahnhof ist der wichtigste Bahnhof von Bingen am Rhein. Er liegt im Stadtteil Bingerbrück. Es handelt sich um einen Trennungsbahnhof, in dem die Nahetalbahn von der linken Rheinstrecke abzweigt. Neben dem heutigen Personenbahnhof befand sich ferner ein heute demontierter Rangierbahnhof. WikipediaAdresse: 55411 Bingen am RheinEröffnet: 15. Juli 1858Stadt/Gemeinde: Bingen am RheinAbkürzung: FBGK; FBGKG (Bingen (Rhein) Gbf); FBGKV (Bingen (Rhein) Vorbahnhof)Verwendete Plattformen: 6Bahnhofscode: 649', 'BeschreibungBochum Hauptbahnhof ist der wichtigste Bahnhof der Stadt Bochum und zentraler Knotenpunkt aller öffentlichen Stadtverkehrsmittel. Er wurde ab 1955 neu errichtet und 1957 seiner Bestimmung übergeben. WikipediaAdresse: 44789 BochumEröffnet: 1957Abkürzung: EBOLage im Netz: TrennungsbahnhofEigentümer: Deutsche Bahn']}\n"
     ]
    }
   ],
   "source": [
    "names = []\n",
    "addresses= []\n",
    "totalNumbUrl = len(url_list)\n",
    "i = 0\n",
    "time_remaining = totalNumbUrl\n",
    "for soup in soups():\n",
    "    getPropNames(soup)\n",
    "    getPropAdress(soup)\n",
    "    i+=1 \n",
    "    time_remaining = (time_remaining - 1)\n",
    "    \n",
    "    if  i%1 == 0:\n",
    "        time.sleep(.5)\n",
    "    \n",
    "    sys.stdout.write('\\r' + 'Current Url: ' + str(i) + ' Percentage: '+str(round((i/totalNumbUrl)*100))+ '%' + ' time remaining: ' + str(round(time_remaining/60))+\" minutes \")\n",
    "    #sys.stdout.flush()\n",
    "    #print('\\r' +str(round(i/totalNumbUrl)*100)+ '%')\n",
    "    \n",
    "    Data = {'names': names,\n",
    "           'addresses': addresses}\n",
    "\n",
    "print('')\n",
    "print('result:')\n",
    "print(Data)"
   ]
  },
  {
   "cell_type": "code",
   "execution_count": 26,
   "metadata": {},
   "outputs": [],
   "source": [
    "# Create a Pandas dataframe from the data.\n",
    "df = pd.DataFrame(dict([ (k,pd.Series(v)) for k,v in Data.items() ]))\n",
    "\n",
    "# Create a Pandas Excel writer using XlsxWriter as the engine.\n",
    "writer = pd.ExcelWriter('pandas_simple.xlsx', engine='xlsxwriter')\n",
    "\n",
    "# Convert the dataframe to an XlsxWriter Excel object.\n",
    "df.to_excel(writer, sheet_name='Sheet1')\n",
    "\n",
    "# Close the Pandas Excel writer and output the Excel file.\n",
    "writer.save()\n"
   ]
  },
  {
   "cell_type": "code",
   "execution_count": 27,
   "metadata": {},
   "outputs": [
    {
     "data": {
      "text/html": [
       "<div>\n",
       "<style scoped>\n",
       "    .dataframe tbody tr th:only-of-type {\n",
       "        vertical-align: middle;\n",
       "    }\n",
       "\n",
       "    .dataframe tbody tr th {\n",
       "        vertical-align: top;\n",
       "    }\n",
       "\n",
       "    .dataframe thead th {\n",
       "        text-align: right;\n",
       "    }\n",
       "</style>\n",
       "<table border=\"1\" class=\"dataframe\">\n",
       "  <thead>\n",
       "    <tr style=\"text-align: right;\">\n",
       "      <th></th>\n",
       "      <th>names</th>\n",
       "      <th>addresses</th>\n",
       "    </tr>\n",
       "  </thead>\n",
       "  <tbody>\n",
       "    <tr>\n",
       "      <td>0</td>\n",
       "      <td>Aachen Hauptbahnhof</td>\n",
       "      <td>BeschreibungAachen Hauptbahnhof ist der größte...</td>\n",
       "    </tr>\n",
       "    <tr>\n",
       "      <td>1</td>\n",
       "      <td>Aalen Hauptbahnhof</td>\n",
       "      <td>BeschreibungAalen Hauptbahnhof ist ein Bahnhof...</td>\n",
       "    </tr>\n",
       "    <tr>\n",
       "      <td>2</td>\n",
       "      <td>Aschaffenburg Hauptbahnhof</td>\n",
       "      <td>BeschreibungDer Aschaffenburger Hauptbahnhof l...</td>\n",
       "    </tr>\n",
       "    <tr>\n",
       "      <td>3</td>\n",
       "      <td>PROSPECT</td>\n",
       "      <td>PROSPECT</td>\n",
       "    </tr>\n",
       "    <tr>\n",
       "      <td>4</td>\n",
       "      <td>Bad Friedrichshall Hauptbahnhof</td>\n",
       "      <td>BeschreibungBad Friedrichshall Hauptbahnhof is...</td>\n",
       "    </tr>\n",
       "  </tbody>\n",
       "</table>\n",
       "</div>"
      ],
      "text/plain": [
       "                             names  \\\n",
       "0              Aachen Hauptbahnhof   \n",
       "1               Aalen Hauptbahnhof   \n",
       "2       Aschaffenburg Hauptbahnhof   \n",
       "3                         PROSPECT   \n",
       "4  Bad Friedrichshall Hauptbahnhof   \n",
       "\n",
       "                                           addresses  \n",
       "0  BeschreibungAachen Hauptbahnhof ist der größte...  \n",
       "1  BeschreibungAalen Hauptbahnhof ist ein Bahnhof...  \n",
       "2  BeschreibungDer Aschaffenburger Hauptbahnhof l...  \n",
       "3                                           PROSPECT  \n",
       "4  BeschreibungBad Friedrichshall Hauptbahnhof is...  "
      ]
     },
     "execution_count": 27,
     "metadata": {},
     "output_type": "execute_result"
    }
   ],
   "source": [
    "df.head()"
   ]
  },
  {
   "cell_type": "code",
   "execution_count": null,
   "metadata": {},
   "outputs": [],
   "source": []
  }
 ],
 "metadata": {
  "kernelspec": {
   "display_name": "Python 3",
   "language": "python",
   "name": "python3"
  },
  "language_info": {
   "codemirror_mode": {
    "name": "ipython",
    "version": 3
   },
   "file_extension": ".py",
   "mimetype": "text/x-python",
   "name": "python",
   "nbconvert_exporter": "python",
   "pygments_lexer": "ipython3",
   "version": "3.7.4"
  }
 },
 "nbformat": 4,
 "nbformat_minor": 2
}
